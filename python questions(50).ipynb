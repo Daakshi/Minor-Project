{
 "cells": [
  {
   "cell_type": "code",
   "execution_count": 2,
   "id": "015aaf7f-b03e-4c74-8f62-46a6c0dceff9",
   "metadata": {},
   "outputs": [
    {
     "name": "stdin",
     "output_type": "stream",
     "text": [
      "Enter first number 2\n",
      "Enter second number 6\n",
      "Enter third number 5\n"
     ]
    },
    {
     "name": "stdout",
     "output_type": "stream",
     "text": [
      "6 is the largest number\n"
     ]
    }
   ],
   "source": [
    "# largest of three numbers\n",
    "a = int(input(\"Enter first number\"))\n",
    "b = int(input(\"Enter second number\"))\n",
    "c = int(input(\"Enter third number\"))\n",
    "\n",
    "if a>b and a>c:\n",
    "    print(a,\"is the largest number\")\n",
    "elif b>a and b>c:\n",
    "    print(b,\"is the largest number\")\n",
    "else:\n",
    "    print(c,\"is the largest number\")"
   ]
  },
  {
   "cell_type": "code",
   "execution_count": 5,
   "id": "d49fe2d0-b7eb-4b68-b021-091ec01f0fe5",
   "metadata": {},
   "outputs": [
    {
     "name": "stdin",
     "output_type": "stream",
     "text": [
      "Enter first number 3\n"
     ]
    },
    {
     "name": "stdout",
     "output_type": "stream",
     "text": [
      "3 is odd\n"
     ]
    }
   ],
   "source": [
    "#number is even odd\n",
    "a = int(input(\"Enter first number\"))\n",
    "if a%2 == 0:\n",
    "    print(a,\"is even\")\n",
    "else:\n",
    "    print(a,\"is odd\")"
   ]
  },
  {
   "cell_type": "code",
   "execution_count": 6,
   "id": "72734882-d02a-4bb3-a2cc-d23af806a8f3",
   "metadata": {},
   "outputs": [
    {
     "name": "stdin",
     "output_type": "stream",
     "text": [
      "Enter a string:  Hello world!\n"
     ]
    },
    {
     "name": "stdout",
     "output_type": "stream",
     "text": [
      "!dlrow olleH\n"
     ]
    }
   ],
   "source": [
    "# reverse of string\n",
    "a = input(\"Enter a string: \")\n",
    "print(a[::-1])"
   ]
  },
  {
   "cell_type": "code",
   "execution_count": 10,
   "id": "7628d575-b07e-476a-b368-6c9763438e25",
   "metadata": {},
   "outputs": [
    {
     "name": "stdin",
     "output_type": "stream",
     "text": [
      "Enter a string daakshi\n"
     ]
    },
    {
     "name": "stdout",
     "output_type": "stream",
     "text": [
      "There are  3 Vowels in the string\n"
     ]
    }
   ],
   "source": [
    "#count number of vowels\n",
    "str = input(\"Enter a string\")\n",
    "vowels = \"aeiouAEIOU\"\n",
    "sum =0\n",
    "for char in str:\n",
    "    if char in vowels:\n",
    "        sum = sum+1\n",
    "print(\"There are \",sum,\"Vowels in the string\")\n",
    "    "
   ]
  },
  {
   "cell_type": "code",
   "execution_count": 11,
   "id": "856ac1bf-66a4-45b8-9a83-89ef8c1751aa",
   "metadata": {},
   "outputs": [
    {
     "name": "stdin",
     "output_type": "stream",
     "text": [
      "Enter first number:  4\n",
      "Enter second number:  2\n",
      "Choose operation (+, -, *, /):  +\n"
     ]
    },
    {
     "name": "stdout",
     "output_type": "stream",
     "text": [
      "Result: 6.0\n"
     ]
    }
   ],
   "source": [
    "#basic calculator\n",
    "a = float(input(\"Enter first number: \"))\n",
    "b = float(input(\"Enter second number: \"))\n",
    "op = input(\"Choose operation (+, -, *, /): \")\n",
    "\n",
    "if op == '+':\n",
    "    print(\"Result:\", a + b)\n",
    "elif op == '-':\n",
    "    print(\"Result:\", a - b)\n",
    "elif op == '*':\n",
    "    print(\"Result:\", a * b)\n",
    "elif op == '/':\n",
    "    print(\"Result:\", a / b)\n",
    "else:\n",
    "    print(\"Invalid operator\")\n"
   ]
  },
  {
   "cell_type": "code",
   "execution_count": 12,
   "id": "7ae4bbc8-2dd6-4ecc-b38f-9fe5efb5cf49",
   "metadata": {},
   "outputs": [
    {
     "name": "stdin",
     "output_type": "stream",
     "text": [
      "Enter a number:  6\n"
     ]
    },
    {
     "name": "stdout",
     "output_type": "stream",
     "text": [
      "Not Prime\n"
     ]
    }
   ],
   "source": [
    "#check if number is prime\n",
    "num = int(input(\"Enter a number: \"))\n",
    "if num > 1:\n",
    "    for i in range(2, num):\n",
    "        if num % i == 0:\n",
    "            print(\"Not Prime\")\n",
    "            break\n",
    "    else:\n",
    "        print(\"Prime\")\n",
    "else:\n",
    "    print(\"Not Prime\")\n"
   ]
  },
  {
   "cell_type": "code",
   "execution_count": 13,
   "id": "ef50221e-0abe-4d0b-8da0-c24fe9f03f7b",
   "metadata": {},
   "outputs": [
    {
     "name": "stdin",
     "output_type": "stream",
     "text": [
      "Enter a number:  5\n"
     ]
    },
    {
     "name": "stdout",
     "output_type": "stream",
     "text": [
      "5 x 1 = 5\n",
      "5 x 2 = 10\n",
      "5 x 3 = 15\n",
      "5 x 4 = 20\n",
      "5 x 5 = 25\n",
      "5 x 6 = 30\n",
      "5 x 7 = 35\n",
      "5 x 8 = 40\n",
      "5 x 9 = 45\n",
      "5 x 10 = 50\n"
     ]
    }
   ],
   "source": [
    "#table of given number \n",
    "n = int(input(\"Enter a number: \"))\n",
    "for i in range(1, 11):\n",
    "    print(f\"{n} x {i} = {n*i}\")\n"
   ]
  },
  {
   "cell_type": "code",
   "execution_count": 14,
   "id": "dd4911c1-b000-419c-beab-800cb39117b1",
   "metadata": {},
   "outputs": [
    {
     "name": "stdin",
     "output_type": "stream",
     "text": [
      "Enter number of terms:  10\n"
     ]
    },
    {
     "name": "stdout",
     "output_type": "stream",
     "text": [
      "0 1 1 2 3 5 8 13 21 34 "
     ]
    }
   ],
   "source": [
    "#Fibonacci series upto n terms\n",
    "n = int(input(\"Enter number of terms: \"))\n",
    "a, b = 0, 1\n",
    "for _ in range(n):\n",
    "    print(a, end=' ')\n",
    "    a, b = b, a + b\n"
   ]
  },
  {
   "cell_type": "code",
   "execution_count": 15,
   "id": "d65a255d-09b4-4786-bb76-b54fc06f2380",
   "metadata": {},
   "outputs": [
    {
     "name": "stdin",
     "output_type": "stream",
     "text": [
      "Enter a number:  4\n"
     ]
    },
    {
     "name": "stdout",
     "output_type": "stream",
     "text": [
      "Factorial: 24\n"
     ]
    }
   ],
   "source": [
    "#factorial of number\n",
    "num = int(input(\"Enter a number: \"))\n",
    "fact = 1\n",
    "for i in range(1, num + 1):\n",
    "    fact *= i\n",
    "print(\"Factorial:\", fact)\n"
   ]
  },
  {
   "cell_type": "code",
   "execution_count": 17,
   "id": "7144f33a-3776-42d0-aa4e-5394d19d5047",
   "metadata": {},
   "outputs": [
    {
     "name": "stdin",
     "output_type": "stream",
     "text": [
      "Enter a number:  555\n"
     ]
    },
    {
     "name": "stdout",
     "output_type": "stream",
     "text": [
      "Palindrome\n"
     ]
    }
   ],
   "source": [
    "#check for plaindrome\n",
    "num = input(\"Enter a number: \") \n",
    "if num == num[::-1]:\n",
    "    print(\"Palindrome\")\n",
    "else:\n",
    "    (\"Not Palindrome\")\n"
   ]
  },
  {
   "cell_type": "code",
   "execution_count": 18,
   "id": "415c272e-b89a-4651-8e38-f3a02db5d934",
   "metadata": {},
   "outputs": [
    {
     "name": "stdin",
     "output_type": "stream",
     "text": [
      "Enter a number:  34\n"
     ]
    },
    {
     "name": "stdout",
     "output_type": "stream",
     "text": [
      "Sum of digits: 7\n"
     ]
    }
   ],
   "source": [
    "#sum of digits of a number\n",
    "num = int(input(\"Enter a number: \"))\n",
    "total = 0\n",
    "while num > 0:\n",
    "    total += num % 10\n",
    "    num //= 10\n",
    "print(\"Sum of digits:\", total)\n"
   ]
  },
  {
   "cell_type": "code",
   "execution_count": 19,
   "id": "97cc28b0-96dc-42e0-90ae-c91bd9c80b4b",
   "metadata": {},
   "outputs": [
    {
     "name": "stdin",
     "output_type": "stream",
     "text": [
      "Enter temperature in Celsius:  34\n"
     ]
    },
    {
     "name": "stdout",
     "output_type": "stream",
     "text": [
      "Fahrenheit: 93.2\n"
     ]
    }
   ],
   "source": [
    "#Covert celsius to farenheit\n",
    "c = float(input(\"Enter temperature in Celsius: \"))\n",
    "f = (c * 9/5) + 32\n",
    "print(\"Fahrenheit:\", f)\n"
   ]
  },
  {
   "cell_type": "code",
   "execution_count": 20,
   "id": "42fd4bb8-a086-49e6-bc05-5420144bbd0f",
   "metadata": {},
   "outputs": [
    {
     "name": "stdout",
     "output_type": "stream",
     "text": [
      "Max: 10\n"
     ]
    }
   ],
   "source": [
    "#function to find max of two numbers\n",
    "def maximum(a, b):\n",
    "    return a if a > b else b\n",
    "\n",
    "print(\"Max:\", maximum(5, 10))\n"
   ]
  },
  {
   "cell_type": "code",
   "execution_count": 29,
   "id": "6b4b7665-0d9b-4201-a965-1f4a4900c302",
   "metadata": {},
   "outputs": [
    {
     "name": "stdin",
     "output_type": "stream",
     "text": [
      "Enter numbers:  2\n"
     ]
    },
    {
     "ename": "TypeError",
     "evalue": "'int' object is not callable",
     "output_type": "error",
     "traceback": [
      "\u001b[31m---------------------------------------------------------------------------\u001b[39m",
      "\u001b[31mTypeError\u001b[39m                                 Traceback (most recent call last)",
      "\u001b[36mCell\u001b[39m\u001b[36m \u001b[39m\u001b[32mIn[29]\u001b[39m\u001b[32m, line 2\u001b[39m\n\u001b[32m      1\u001b[39m nums = \u001b[38;5;28mlist\u001b[39m(\u001b[38;5;28mmap\u001b[39m(\u001b[38;5;28mint\u001b[39m, \u001b[38;5;28minput\u001b[39m(\u001b[33m\"\u001b[39m\u001b[33mEnter numbers: \u001b[39m\u001b[33m\"\u001b[39m).split()))\n\u001b[32m----> \u001b[39m\u001b[32m2\u001b[39m avg = \u001b[38;5;28;43msum\u001b[39;49m\u001b[43m(\u001b[49m\u001b[43mnums\u001b[49m\u001b[43m)\u001b[49m / \u001b[38;5;28mlen\u001b[39m(nums)\n\u001b[32m      3\u001b[39m \u001b[38;5;28mprint\u001b[39m(\u001b[33m\"\u001b[39m\u001b[33mAverage:\u001b[39m\u001b[33m\"\u001b[39m, avg)\n",
      "\u001b[31mTypeError\u001b[39m: 'int' object is not callable"
     ]
    }
   ],
   "source": [
    "#find avg from list of numbers\n",
    "nums = list(map(int, input(\"Enter numbers: \").split()))\n",
    "avg = sum(nums) / len(nums)\n",
    "print(\"Average:\", avg)"
   ]
  },
  {
   "cell_type": "code",
   "execution_count": 25,
   "id": "8538e9e3-e4c5-4be5-bdca-1f81346d02bb",
   "metadata": {},
   "outputs": [
    {
     "name": "stdin",
     "output_type": "stream",
     "text": [
      "Enter numbers:  2 8 9 2 4 6 8 10\n"
     ]
    },
    {
     "name": "stdout",
     "output_type": "stream",
     "text": [
      "Second Largest: 9\n"
     ]
    }
   ],
   "source": [
    "#find second largest no. in list\n",
    "nums = list(map(int, input(\"Enter numbers: \").split()))\n",
    "unique = list(set(nums))\n",
    "unique.sort()\n",
    "print(\"Second Largest:\", unique[-2])\n"
   ]
  },
  {
   "cell_type": "code",
   "execution_count": 30,
   "id": "caed6280-dd23-48e9-9dda-85ef04fcd621",
   "metadata": {},
   "outputs": [
    {
     "name": "stdin",
     "output_type": "stream",
     "text": [
      "Enter a sentence:  Hello! How are you\n"
     ]
    },
    {
     "name": "stdout",
     "output_type": "stream",
     "text": [
      "Number of words: 4\n"
     ]
    }
   ],
   "source": [
    "#count no. of words\n",
    "sentence = input(\"Enter a sentence: \")\n",
    "words = sentence.split()\n",
    "print(\"Number of words:\", len(words))"
   ]
  },
  {
   "cell_type": "code",
   "execution_count": 31,
   "id": "179959ce-63bb-4b7f-943a-40c6234559ef",
   "metadata": {},
   "outputs": [
    {
     "name": "stdin",
     "output_type": "stream",
     "text": [
      "Enter list elements:  1 4 7 4 3 8 6 \n"
     ]
    },
    {
     "name": "stdout",
     "output_type": "stream",
     "text": [
      "Without duplicates: [1, 3, 4, 6, 7, 8]\n"
     ]
    }
   ],
   "source": [
    "#remove duplicates from list\n",
    "lst = list(map(int, input(\"Enter list elements: \").split()))\n",
    "no_duplicates = list(set(lst))\n",
    "print(\"Without duplicates:\", no_duplicates)\n"
   ]
  },
  {
   "cell_type": "code",
   "execution_count": 33,
   "id": "d193ece6-2647-4426-914f-2b1c24afd28e",
   "metadata": {},
   "outputs": [
    {
     "name": "stdin",
     "output_type": "stream",
     "text": [
      "Enter keys:  Name Age\n",
      "Enter values:  Daakshi 18\n"
     ]
    },
    {
     "name": "stdout",
     "output_type": "stream",
     "text": [
      "Dictionary: {'Name': 'Daakshi', 'Age': '18'}\n"
     ]
    }
   ],
   "source": [
    "#dictionary from two lists\n",
    "keys = input(\"Enter keys: \").split()\n",
    "values = input(\"Enter values: \").split()\n",
    "dictionary = dict(zip(keys, values))\n",
    "print(\"Dictionary:\", dictionary)"
   ]
  },
  {
   "cell_type": "code",
   "execution_count": 34,
   "id": "ca2868be-ede9-4822-8f62-c890d6c4ac44",
   "metadata": {},
   "outputs": [
    {
     "name": "stdin",
     "output_type": "stream",
     "text": [
      "Enter numbers:  1 5 3 8 0 5 3\n"
     ]
    },
    {
     "name": "stdout",
     "output_type": "stream",
     "text": [
      "Sorted list: [0, 1, 3, 3, 5, 5, 8]\n"
     ]
    }
   ],
   "source": [
    "#sorting list without using sort function\n",
    "lst = list(map(int, input(\"Enter numbers: \").split()))\n",
    "for i in range(len(lst)):\n",
    "    for j in range(i + 1, len(lst)):\n",
    "        if lst[i] > lst[j]:\n",
    "            lst[i], lst[j] = lst[j], lst[i]\n",
    "print(\"Sorted list:\", lst)\n"
   ]
  },
  {
   "cell_type": "code",
   "execution_count": 35,
   "id": "b0fa21a8-9eae-416a-a0c0-5f5e39e17ea0",
   "metadata": {},
   "outputs": [
    {
     "name": "stdin",
     "output_type": "stream",
     "text": [
      "Enter a string:  Daakshi\n"
     ]
    },
    {
     "name": "stdout",
     "output_type": "stream",
     "text": [
      "Not a Pangram\n"
     ]
    }
   ],
   "source": [
    "#check if string is panagram\n",
    "import string\n",
    "\n",
    "def is_pangram(s):\n",
    "    return set(string.ascii_lowercase).issubset(set(s.lower()))\n",
    "\n",
    "s = input(\"Enter a string: \")\n",
    "print(\"Pangram\" if is_pangram(s) else \"Not a Pangram\")\n"
   ]
  },
  {
   "cell_type": "code",
   "execution_count": 36,
   "id": "aebbabc7-7d61-43b5-b69e-7500fb2fea37",
   "metadata": {},
   "outputs": [
    {
     "name": "stdin",
     "output_type": "stream",
     "text": [
      "Enter input:  45\n"
     ]
    },
    {
     "name": "stdout",
     "output_type": "stream",
     "text": [
      "Is number? True\n"
     ]
    }
   ],
   "source": [
    "#check if input is a number\n",
    "def is_number(s):\n",
    "    try:\n",
    "        float(s)\n",
    "        return True\n",
    "    except ValueError:\n",
    "        return False\n",
    "\n",
    "s = input(\"Enter input: \")\n",
    "print(\"Is number?\" , is_number(s))\n"
   ]
  },
  {
   "cell_type": "code",
   "execution_count": 37,
   "id": "130bffe9-b8bc-4f64-9b0c-e5e13245350b",
   "metadata": {},
   "outputs": [
    {
     "name": "stdin",
     "output_type": "stream",
     "text": [
      "Enter first string:  madam\n",
      "Enter second string:  madam\n"
     ]
    },
    {
     "name": "stdout",
     "output_type": "stream",
     "text": [
      "Anagram\n"
     ]
    }
   ],
   "source": [
    "#check is string is anagram\n",
    "a = input(\"Enter first string: \")\n",
    "b = input(\"Enter second string: \")\n",
    "print(\"Anagram\" if sorted(a) == sorted(b) else \"Not Anagram\")\n"
   ]
  },
  {
   "cell_type": "code",
   "execution_count": 1,
   "id": "06e2188c-a6c5-4a69-a518-3bf8d6f5e429",
   "metadata": {},
   "outputs": [
    {
     "name": "stdin",
     "output_type": "stream",
     "text": [
      "Enter a number:  34\n"
     ]
    },
    {
     "name": "stdout",
     "output_type": "stream",
     "text": [
      "Binary: 0b100010\n",
      "Octal: 0o42\n",
      "Hexadecimal: 0x22\n"
     ]
    }
   ],
   "source": [
    "#print binary,octal and hexadecimal of a number\n",
    "num = int(input(\"Enter a number: \"))\n",
    "print(\"Binary:\", bin(num))\n",
    "print(\"Octal:\", oct(num))\n",
    "print(\"Hexadecimal:\", hex(num))"
   ]
  },
  {
   "cell_type": "code",
   "execution_count": 2,
   "id": "3726405c-c8db-49a9-bf8a-d1f243d27fe3",
   "metadata": {},
   "outputs": [
    {
     "name": "stdin",
     "output_type": "stream",
     "text": [
      "Enter list elements:  23 45 65 98 465 \n"
     ]
    },
    {
     "name": "stdout",
     "output_type": "stream",
     "text": [
      "Elements > 50: [65, 98, 465]\n"
     ]
    }
   ],
   "source": [
    "#print elements greater than 50 from a lsit\n",
    "lst = list(map(int, input(\"Enter list elements: \").split()))\n",
    "greater = [x for x in lst if x > 50]\n",
    "print(\"Elements > 50:\", greater)\n"
   ]
  },
  {
   "cell_type": "code",
   "execution_count": 4,
   "id": "540d9eff-32c6-43b7-84f5-53f9b121f101",
   "metadata": {},
   "outputs": [
    {
     "name": "stdin",
     "output_type": "stream",
     "text": [
      "Enter a string:  Daakshi Nagi\n"
     ]
    },
    {
     "name": "stdout",
     "output_type": "stream",
     "text": [
      "Uppercase: 2\n",
      "Lowercase: 9\n"
     ]
    }
   ],
   "source": [
    "#count uppercase and lowercase letters in string\n",
    "s = input(\"Enter a string: \")\n",
    "upper = sum(1 for ch in s if ch.isupper())\n",
    "lower = sum(1 for ch in s if ch.islower())\n",
    "print(\"Uppercase:\", upper)\n",
    "print(\"Lowercase:\", lower)"
   ]
  },
  {
   "cell_type": "code",
   "execution_count": 10,
   "id": "629d3831-a689-4984-998d-79642819a842",
   "metadata": {},
   "outputs": [
    {
     "name": "stdout",
     "output_type": "stream",
     "text": [
      "[1, 4, 9, 16, 25]\n"
     ]
    }
   ],
   "source": [
    "#use lambda function to square all elements of a list\n",
    "numbers = [1, 2, 3, 4, 5]\n",
    "squared = list(map(lambda x: x**2, numbers))\n",
    "print(squared)"
   ]
  },
  {
   "cell_type": "code",
   "execution_count": 11,
   "id": "fadb33bf-f990-43cf-8f30-1059d2533f15",
   "metadata": {},
   "outputs": [
    {
     "name": "stdout",
     "output_type": "stream",
     "text": [
      "[2, 3, 5, 7, 11, 13, 17, 19, 23, 29, 31, 37, 41, 43, 47, 53, 59, 61, 67, 71, 73, 79, 83, 89, 97]\n"
     ]
    }
   ],
   "source": [
    "#display prime numbers from 1 to 100\n",
    "def get_primes():\n",
    "    primes = []\n",
    "    for num in range(2, 101):\n",
    "        if all(num % i != 0 for i in range(2, int(num**0.5) + 1)):\n",
    "            primes.append(num)\n",
    "    return primes\n",
    "\n",
    "print(get_primes())\n"
   ]
  },
  {
   "cell_type": "code",
   "execution_count": 12,
   "id": "3fb7ec72-8dfc-4381-922a-11eb74073af7",
   "metadata": {},
   "outputs": [
    {
     "name": "stdin",
     "output_type": "stream",
     "text": [
      "Enter first number:  10\n",
      "Enter second number:  2\n",
      "Enter operator (+,-,*,/):  /\n"
     ]
    },
    {
     "name": "stdout",
     "output_type": "stream",
     "text": [
      "5.0\n"
     ]
    }
   ],
   "source": [
    "#simple calculator using functions\n",
    "def add(a, b): return a + b\n",
    "def sub(a, b): return a - b\n",
    "def mul(a, b): return a * b\n",
    "def div(a, b): return a / b if b != 0 else \"Cannot divide by zero\"\n",
    "\n",
    "a = int(input(\"Enter first number: \"))\n",
    "b = int(input(\"Enter second number: \"))\n",
    "op = input(\"Enter operator (+,-,*,/): \")\n",
    "\n",
    "if op == '+':\n",
    "    print(add(a, b))\n",
    "elif op == '-':\n",
    "    print(sub(a, b))\n",
    "elif op == '*':\n",
    "    print(mul(a, b))\n",
    "elif op == '/':\n",
    "    print(div(a, b))\n",
    "else:\n",
    "    print(\"Invalid operator\")\n"
   ]
  },
  {
   "cell_type": "code",
   "execution_count": 13,
   "id": "bb25543b-485e-4b96-bd00-d587dea4e764",
   "metadata": {},
   "outputs": [
    {
     "name": "stdout",
     "output_type": "stream",
     "text": [
      "120\n"
     ]
    }
   ],
   "source": [
    "#compute factorial using function\n",
    "def factorial(n):\n",
    "    if n == 0 or n == 1:\n",
    "        return 1\n",
    "    return n * factorial(n - 1)\n",
    "\n",
    "print(factorial(5))\n"
   ]
  },
  {
   "cell_type": "code",
   "execution_count": 14,
   "id": "3dc31fcb-cd1b-44ed-b4d6-d32178503191",
   "metadata": {},
   "outputs": [
    {
     "name": "stdout",
     "output_type": "stream",
     "text": [
      "Name: Daakshi, Roll: 101\n"
     ]
    }
   ],
   "source": [
    "#student management system using oop\n",
    "class Student:\n",
    "    def __init__(self, name, roll):\n",
    "        self.name = name\n",
    "        self.roll = roll\n",
    "\n",
    "    def display(self):\n",
    "        print(f\"Name: {self.name}, Roll: {self.roll}\")\n",
    "\n",
    "s1 = Student(\"Daakshi\", 101)\n",
    "s1.display()\n"
   ]
  },
  {
   "cell_type": "code",
   "execution_count": 15,
   "id": "f77a25a8-6143-4037-8eb8-48bc34bf1626",
   "metadata": {},
   "outputs": [
    {
     "name": "stdout",
     "output_type": "stream",
     "text": [
      "Function executed\n",
      "Execution Time: 1.0002 seconds\n"
     ]
    }
   ],
   "source": [
    "import time\n",
    "\n",
    "def timer(func):\n",
    "    def wrapper(*args, **kwargs):\n",
    "        start = time.time()\n",
    "        result = func(*args, **kwargs)\n",
    "        print(f\"Execution Time: {time.time() - start:.4f} seconds\")\n",
    "        return result\n",
    "    return wrapper\n",
    "\n",
    "@timer\n",
    "def slow_function():\n",
    "    time.sleep(1)\n",
    "    print(\"Function executed\")\n",
    "\n",
    "slow_function()\n"
   ]
  },
  {
   "cell_type": "code",
   "execution_count": 17,
   "id": "a116a4a0-94f9-4b94-9dc5-e671b2466758",
   "metadata": {},
   "outputs": [
    {
     "name": "stdout",
     "output_type": "stream",
     "text": [
      "Deposited: 500\n",
      "withdraw: 200\n"
     ]
    }
   ],
   "source": [
    "#class BankAccount and withdraw classes\n",
    "class BankAccount:\n",
    "    def __init__(self,balance=0):\n",
    "        self.balance = balance\n",
    "    def deposit(self,amount):\n",
    "        self.balance+= amount\n",
    "        print(f\"Deposited: {amount}\")\n",
    "    def withdraw(self,amount):\n",
    "        if amount>self.balance:\n",
    "            print(\"Insufficient balance\")\n",
    "        else:\n",
    "            self.balance -= amount\n",
    "            print(f\"withdraw: {amount}\")\n",
    "acc = BankAccount()\n",
    "acc.deposit(500)\n",
    "acc.withdraw(200)"
   ]
  },
  {
   "cell_type": "code",
   "execution_count": 22,
   "id": "3ef0ce1c-b54f-444c-ad36-9d85f3c3cc5c",
   "metadata": {},
   "outputs": [
    {
     "name": "stdin",
     "output_type": "stream",
     "text": [
      "Enter a number:  50\n"
     ]
    },
    {
     "name": "stdout",
     "output_type": "stream",
     "text": [
      "2\n",
      "4\n",
      "6\n",
      "8\n",
      "10\n",
      "12\n",
      "14\n",
      "16\n",
      "18\n",
      "20\n",
      "22\n",
      "24\n",
      "26\n",
      "28\n",
      "30\n",
      "32\n",
      "34\n",
      "36\n",
      "38\n",
      "40\n",
      "42\n",
      "44\n",
      "46\n",
      "48\n",
      "50\n"
     ]
    }
   ],
   "source": [
    "#even number generator\n",
    "def evenNo(n):\n",
    "    for i in range(1,n+1):\n",
    "        if i%2 == 0:\n",
    "            print(i)\n",
    "n = int(input(\"Enter a number: \"))\n",
    "evenNo(n)"
   ]
  },
  {
   "cell_type": "code",
   "execution_count": 23,
   "id": "b7be5141-ba62-4970-8949-e9a028465b27",
   "metadata": {},
   "outputs": [
    {
     "name": "stdout",
     "output_type": "stream",
     "text": [
      "Args: (1, 2, 3)\n",
      "Kwargs: {'name': 'Daakshi', 'age': 21}\n"
     ]
    }
   ],
   "source": [
    "#args and kwargs\n",
    "def print_args(*args, **kwargs):\n",
    "    print(\"Args:\", args)\n",
    "    print(\"Kwargs:\", kwargs)\n",
    "\n",
    "print_args(1, 2, 3, name=\"Daakshi\", age=21)\n"
   ]
  },
  {
   "cell_type": "code",
   "execution_count": 25,
   "id": "94c7a664-96ea-42cc-b94b-2ba3e173fa28",
   "metadata": {},
   "outputs": [
    {
     "name": "stdout",
     "output_type": "stream",
     "text": [
      "[4, 16, 36, 64, 100, 144, 196, 256, 324, 400]\n"
     ]
    }
   ],
   "source": [
    "#list comprehension for square of even numbers\n",
    "squares = [x**2 for x in range(1, 21) if x % 2 == 0]\n",
    "print(squares)"
   ]
  },
  {
   "cell_type": "code",
   "execution_count": 26,
   "id": "9d4fc43f-bdc5-48d9-83a4-32d950b24315",
   "metadata": {},
   "outputs": [
    {
     "name": "stdout",
     "output_type": "stream",
     "text": [
      "[1, 2, 3, 4]\n"
     ]
    }
   ],
   "source": [
    "#return unique elements from list\n",
    "def unique_elements(lst):\n",
    "    return list(set(lst))\n",
    "\n",
    "print(unique_elements([1, 2, 2, 3, 4, 4]))\n"
   ]
  },
  {
   "cell_type": "code",
   "execution_count": 27,
   "id": "50944c2c-4b87-4a90-8d96-7b9c3372b3b7",
   "metadata": {},
   "outputs": [
    {
     "name": "stdout",
     "output_type": "stream",
     "text": [
      "{'a': 1, 'b': 3, 'c': 4}\n"
     ]
    }
   ],
   "source": [
    "#merge two dictionaries\n",
    "d1 = {'a': 1, 'b': 2}\n",
    "d2 = {'b': 3, 'c': 4}\n",
    "merged = {**d1, **d2}\n",
    "print(merged)"
   ]
  },
  {
   "cell_type": "code",
   "execution_count": 30,
   "id": "f79f66aa-3bcf-42a4-a4de-8051060e9114",
   "metadata": {},
   "outputs": [
    {
     "name": "stdout",
     "output_type": "stream",
     "text": [
      "Dog barks\n"
     ]
    }
   ],
   "source": [
    "#inheritance and override\n",
    "class Animal:\n",
    "    def speak(self):\n",
    "        print(\"Animal speaks\")\n",
    "class Dog(Animal):\n",
    "    def speak(self):\n",
    "        print(\"Dog barks\")\n",
    "d = Dog()\n",
    "d.speak()"
   ]
  },
  {
   "cell_type": "code",
   "execution_count": 31,
   "id": "87946e35-ad59-4806-aa8e-009f06bf2e86",
   "metadata": {},
   "outputs": [
    {
     "name": "stdout",
     "output_type": "stream",
     "text": [
      "[2, 3]\n"
     ]
    }
   ],
   "source": [
    "#Finding common elements\n",
    "def common_elements(l1, l2):\n",
    "    return list(set(l1) & set(l2))\n",
    "\n",
    "print(common_elements([1, 2, 3], [2, 3, 4]))"
   ]
  },
  {
   "cell_type": "code",
   "execution_count": 32,
   "id": "287a5302-9460-4b91-b2f2-2bd9b6519515",
   "metadata": {},
   "outputs": [
    {
     "name": "stdin",
     "output_type": "stream",
     "text": [
      "Enter number:  10\n"
     ]
    },
    {
     "name": "stdout",
     "output_type": "stream",
     "text": [
      "Execution completed\n"
     ]
    }
   ],
   "source": [
    "#try ,except and finally\n",
    "try:\n",
    "    x = int(input(\"Enter number: \"))\n",
    "    result = 10 / x\n",
    "except ZeroDivisionError:\n",
    "    print(\"Cannot divide by zero\")\n",
    "finally:\n",
    "    print(\"Execution completed\")\n"
   ]
  },
  {
   "cell_type": "code",
   "execution_count": 33,
   "id": "eee06cc8-bc63-4c9e-8063-ee4c9872d4ca",
   "metadata": {},
   "outputs": [
    {
     "name": "stdout",
     "output_type": "stream",
     "text": [
      "Daakshi 21\n"
     ]
    }
   ],
   "source": [
    "import json\n",
    "\n",
    "data = '{\"name\": \"Daakshi\", \"age\": 21}'\n",
    "parsed = json.loads(data)\n",
    "print(parsed['name'], parsed['age'])"
   ]
  },
  {
   "cell_type": "code",
   "execution_count": 34,
   "id": "06b6dd07-d71d-4395-8e70-c8e218fe7672",
   "metadata": {},
   "outputs": [
    {
     "name": "stdout",
     "output_type": "stream",
     "text": [
      "Protected\n",
      "Private\n",
      "Protected\n"
     ]
    }
   ],
   "source": [
    "class Demo:\n",
    "    def __init__(self):\n",
    "        self._protected = \"Protected\"\n",
    "        self.__private = \"Private\"\n",
    "\n",
    "    def display(self):\n",
    "        print(self._protected)\n",
    "        print(self.__private)\n",
    "\n",
    "obj = Demo()\n",
    "obj.display()\n",
    "print(obj._protected)     "
   ]
  },
  {
   "cell_type": "code",
   "execution_count": 37,
   "id": "b1add4a6-32a0-4a58-b0f8-42ab78f7d835",
   "metadata": {},
   "outputs": [
    {
     "name": "stdin",
     "output_type": "stream",
     "text": [
      "Enter username:  admin\n",
      "Enter password:  1234\n"
     ]
    },
    {
     "name": "stdout",
     "output_type": "stream",
     "text": [
      "Login successful\n"
     ]
    }
   ],
   "source": [
    "#simple logiin system\n",
    "users = {\"admin\": \"1234\", \"user\": \"abcd\"}\n",
    "username = input(\"Enter username: \")\n",
    "password = input(\"Enter password: \")\n",
    "\n",
    "if username in users and users[username] == password:\n",
    "    print(\"Login successful\")\n",
    "else:\n",
    "    print(\"Invalid credentials\")\n"
   ]
  },
  {
   "cell_type": "code",
   "execution_count": 38,
   "id": "8fad6dcf-8f06-427f-8c7a-088f821aa98f",
   "metadata": {},
   "outputs": [
    {
     "name": "stdout",
     "output_type": "stream",
     "text": [
      "[1, 2, 3, 4, 5, 6]\n"
     ]
    }
   ],
   "source": [
    "#flatten nested list using recursion\n",
    "def flatten(lst):\n",
    "    result = []\n",
    "    for item in lst:\n",
    "        if isinstance(item, list):\n",
    "            result.extend(flatten(item))\n",
    "        else:\n",
    "            result.append(item)\n",
    "    return result\n",
    "\n",
    "print(flatten([1, [2, [3, 4], 5], 6]))\n"
   ]
  },
  {
   "cell_type": "code",
   "execution_count": 39,
   "id": "c8d95dce-2b44-49f6-88cc-1d9500c5ffce",
   "metadata": {},
   "outputs": [
    {
     "name": "stdout",
     "output_type": "stream",
     "text": [
      "[1, 4, 9, 16, 25] [2, 4] 120\n"
     ]
    }
   ],
   "source": [
    "from functools import reduce\n",
    "\n",
    "nums = [1, 2, 3, 4, 5]\n",
    "squared = list(map(lambda x: x**2, nums))\n",
    "evens = list(filter(lambda x: x % 2 == 0, nums))\n",
    "product = reduce(lambda x, y: x * y, nums)\n",
    "\n",
    "print(squared, evens, product)\n"
   ]
  },
  {
   "cell_type": "code",
   "execution_count": 40,
   "id": "fd69c7c6-5de2-43fb-b3fe-bb7853171373",
   "metadata": {},
   "outputs": [
    {
     "name": "stdin",
     "output_type": "stream",
     "text": [
      "Choose operation: add, sub, exit:  add\n",
      "Enter first number:  5\n",
      "Enter second number:  4\n"
     ]
    },
    {
     "name": "stdout",
     "output_type": "stream",
     "text": [
      "9\n"
     ]
    },
    {
     "name": "stdin",
     "output_type": "stream",
     "text": [
      "Choose operation: add, sub, exit:  exit\n"
     ]
    }
   ],
   "source": [
    "while True:\n",
    "    choice = input(\"Choose operation: add, sub, exit: \")\n",
    "    if choice == \"exit\":\n",
    "        break\n",
    "    a = int(input(\"Enter first number: \"))\n",
    "    b = int(input(\"Enter second number: \"))\n",
    "    if choice == \"add\":\n",
    "        print(a + b)\n",
    "    elif choice == \"sub\":\n",
    "        print(a - b)\n",
    "    else:\n",
    "        print(\"Invalid choice\")\n"
   ]
  },
  {
   "cell_type": "code",
   "execution_count": 42,
   "id": "d3763d31-0ab3-477c-815c-3380c2d0c3da",
   "metadata": {},
   "outputs": [
    {
     "name": "stdin",
     "output_type": "stream",
     "text": [
      "What is the capital of India?  Delhi\n",
      "2 + 2 = ?  4\n",
      "Python is a: (a) snake (b) language (c) fruit  snake\n"
     ]
    },
    {
     "name": "stdout",
     "output_type": "stream",
     "text": [
      "Your score: 2/3\n"
     ]
    }
   ],
   "source": [
    "questions = {\n",
    "    \"What is the capital of India?\": \"Delhi\",\n",
    "    \"2 + 2 = ?\": \"4\",\n",
    "    \"Python is a: (a) snake (b) language (c) fruit\": \"b\"\n",
    "}\n",
    "score = 0\n",
    "\n",
    "for q, ans in questions.items():\n",
    "    user_ans = input(q + \" \")\n",
    "    if user_ans.lower() == ans.lower():\n",
    "        score += 1\n",
    "\n",
    "print(f\"Your score: {score}/{len(questions)}\")\n"
   ]
  },
  {
   "cell_type": "code",
   "execution_count": null,
   "id": "4c2f194e-abe9-4ae3-9480-d013019f010c",
   "metadata": {},
   "outputs": [],
   "source": []
  }
 ],
 "metadata": {
  "kernelspec": {
   "display_name": "Python 3 (ipykernel)",
   "language": "python",
   "name": "python3"
  },
  "language_info": {
   "codemirror_mode": {
    "name": "ipython",
    "version": 3
   },
   "file_extension": ".py",
   "mimetype": "text/x-python",
   "name": "python",
   "nbconvert_exporter": "python",
   "pygments_lexer": "ipython3",
   "version": "3.12.3"
  }
 },
 "nbformat": 4,
 "nbformat_minor": 5
}
